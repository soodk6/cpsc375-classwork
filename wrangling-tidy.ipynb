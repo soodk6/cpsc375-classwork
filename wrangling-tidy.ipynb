{
 "cells": [
  {
   "cell_type": "markdown",
   "metadata": {},
   "source": [
    "# CPSC 375 Classwork - Data wrangling - Joins and Tidy Data\n",
    "\n",
    "[![Open In Colab](https://colab.research.google.com/assets/colab-badge.svg)](https://colab.research.google.com/github/soodk6/cpsc375-classwork/blob/main/wrangling-tidy.ipynb)\n",
    "\n",
    "- *Manager*: \n",
    "- *Recorder*: \n",
    "- *Presenter*: \n",
    "- *Timekeeper*: "
   ]
  },
  {
   "cell_type": "markdown",
   "metadata": {},
   "source": [
    "## Part 1 - Slide 10"
   ]
  },
  {
   "cell_type": "code",
   "execution_count": 2,
   "metadata": {},
   "outputs": [],
   "source": [
    "import pandas as pd\n",
    "\n",
    "band_members = pd.DataFrame(\n",
    "    {\"Name\": [\"Mick\", \"John\", \"Paul\"], \"Band\": [\"Stones\", \"Beatles\", \"Beatles\"]}\n",
    ")\n",
    "\n",
    "band_instruments = pd.DataFrame(\n",
    "    {\"Name\": [\"John\", \"Paul\", \"Keith\"], \"Plays\": [\"guitar\", \"bass\", \"guitar\"]}\n",
    ")"
   ]
  },
  {
   "cell_type": "markdown",
   "metadata": {},
   "source": [
    "<table>\n",
    "<tr>\n",
    "  <th>\n",
    "    <code>band_members_4rows</code> (left table)\n",
    "  </th>\n",
    "  <th>\n",
    "    <code>band_instruments_4rows</code> (right table)\n",
    "  </th>\n",
    "</tr>\n",
    "<tr>\n",
    "  <td>\n",
    "\n",
    "| Name | Band    |\n",
    "|------|---------|\n",
    "| Mick | Stones  |\n",
    "| John | Beatles |\n",
    "| Paul | Beatles |\n",
    "| Paul | Wings   |\n",
    "\n",
    "  </td>\n",
    "  <td>\n",
    "\n",
    "| Name  | Plays  |\n",
    "|-------|--------|\n",
    "| John  | guitar |\n",
    "| Paul  | bass   |\n",
    "| Keith | guitar |\n",
    "| Paul  | vocals |\n",
    "\n",
    "  </td>\n",
    "</tr>\n",
    "</table>\n",
    "\n",
    "Calculate the different joins for these two tables.\n",
    "\n",
    "First, do them by hand\n",
    "\n",
    "Then, confirm your results with code"
   ]
  },
  {
   "cell_type": "code",
   "execution_count": 5,
   "metadata": {},
   "outputs": [],
   "source": [
    "band_members_4rows = pd.concat([\n",
    "  band_members,\n",
    "  pd.DataFrame(dict(Name=[\"Paul\"], Band=[\"Wings\"]))\n",
    "], ignore_index=True)\n"
   ]
  },
  {
   "cell_type": "markdown",
   "metadata": {},
   "source": [
    "## Part 2 - Slide 28"
   ]
  },
  {
   "cell_type": "markdown",
   "metadata": {},
   "source": [
    "Write code to \"tidy\" this dataset"
   ]
  },
  {
   "cell_type": "code",
   "execution_count": null,
   "metadata": {},
   "outputs": [],
   "source": [
    "grades = pd.DataFrame(\n",
    "  dict(\n",
    "    CWID=(1234567, 2356902, 5005667),\n",
    "    NAME=(\"Mary\", \"Lee\", \"Elena\"),\n",
    "    CPSC120=(3, 4, pd.NA),\n",
    "    CPSC121=(3.3, 3, 2),\n",
    "    CPSC131=(3, 4, 3.7),\n",
    "    MATH338=(3, pd.NA, 3.3),\n",
    "  )\n",
    ")\n"
   ]
  },
  {
   "cell_type": "markdown",
   "metadata": {},
   "source": [
    "## Part 3 - Slide 33"
   ]
  },
  {
   "cell_type": "markdown",
   "metadata": {},
   "source": [
    "Read file `language_diversity.csv` from Canvas (Tidy data module) which contains data on the diversity of languages in different countries and other parameters.\n",
    "\n",
    "Hint: `pd.read_csv()`\n"
   ]
  },
  {
   "cell_type": "code",
   "execution_count": null,
   "metadata": {},
   "outputs": [],
   "source": []
  },
  {
   "cell_type": "markdown",
   "metadata": {},
   "source": [
    "Calculate:\n",
    " * The total number of languages in every continent"
   ]
  },
  {
   "cell_type": "code",
   "execution_count": null,
   "metadata": {},
   "outputs": [],
   "source": []
  },
  {
   "cell_type": "markdown",
   "metadata": {},
   "source": [
    "* Add a new variable that shows for every country its population density\n",
    "  (PopulationDensity=Population/Area)\n",
    "\n",
    "Hint: **First** convert to tidy data using `pivot()`\n"
   ]
  },
  {
   "cell_type": "code",
   "execution_count": null,
   "metadata": {},
   "outputs": [],
   "source": []
  },
  {
   "cell_type": "markdown",
   "metadata": {},
   "source": [
    "Original dataset:\n",
    " * <https://github.com/jvcasillas/untidydata#language_diversity>\n",
    " * <https://www.researchgate.net/publication/222464328_Explaining_Global_Patterns_of_Language_Diversity>\n"
   ]
  },
  {
   "cell_type": "markdown",
   "metadata": {},
   "source": [
    "## Part 4 - Slide 36"
   ]
  },
  {
   "cell_type": "markdown",
   "metadata": {},
   "source": [
    "Read file `horse_racing.csv` from Canvas (Data Wrangling module) which contains data related to horse racing licensing in New York. \n",
    "\n",
    "Hint: `pd.read_csv()`\n",
    "\n",
    "Transform the dataset such that:\n",
    "\n",
    "* The License column is split into two:\n",
    "  - `LicenseOrReceipt`: a categorical variable with two categories \"License\" and \"Receipt\"\n",
    "  - `Number`: numeric column with the license/receipt number\n"
   ]
  },
  {
   "cell_type": "code",
   "execution_count": null,
   "metadata": {},
   "outputs": [],
   "source": []
  },
  {
   "cell_type": "markdown",
   "metadata": {},
   "source": [
    "* The `Expires` column is split into three:\n",
    "  - `Year`, `Month`, `Day` (all integers)"
   ]
  },
  {
   "cell_type": "code",
   "execution_count": null,
   "metadata": {},
   "outputs": [],
   "source": []
  },
  {
   "cell_type": "markdown",
   "metadata": {},
   "source": [
    " Original dataset: <https://data.ny.gov/Government-Finance/Horse-Racing-Licensing/cz9u-yj7m/data>"
   ]
  },
  {
   "cell_type": "markdown",
   "metadata": {},
   "source": [
    "## Part 5 - Slide 37"
   ]
  },
  {
   "cell_type": "markdown",
   "metadata": {},
   "source": [
    "Consider the dataset: `billboard`\n",
    "\n",
    "> Hint: convert to tidy data **first**\n",
    "\n",
    "1. Show for each track, how many weeks it spent on the chart\n"
   ]
  },
  {
   "cell_type": "code",
   "execution_count": 3,
   "metadata": {},
   "outputs": [],
   "source": [
    "import statsmodels.api as sm\n",
    "\n",
    "billboard_dataset = sm.datasets.get_rdataset(\"billboard\", \"tidyr\")\n",
    "billboard = billboard_dataset.data\n"
   ]
  },
  {
   "cell_type": "markdown",
   "metadata": {},
   "source": [
    "2. List tracks in decreasing order of number of weeks spent on the chart\n"
   ]
  },
  {
   "cell_type": "code",
   "execution_count": null,
   "metadata": {},
   "outputs": [],
   "source": []
  },
  {
   "cell_type": "markdown",
   "metadata": {},
   "source": [
    "3. Show for each track, its top rank\n"
   ]
  },
  {
   "cell_type": "code",
   "execution_count": null,
   "metadata": {},
   "outputs": [],
   "source": []
  },
  {
   "cell_type": "markdown",
   "metadata": {},
   "source": [
    "4. List tracks in increasing order of its top rank\n"
   ]
  },
  {
   "cell_type": "code",
   "execution_count": null,
   "metadata": {},
   "outputs": [],
   "source": []
  },
  {
   "cell_type": "markdown",
   "metadata": {},
   "source": [
    "5. Show for each artist, their top rank\n"
   ]
  },
  {
   "cell_type": "code",
   "execution_count": null,
   "metadata": {},
   "outputs": [],
   "source": []
  },
  {
   "cell_type": "markdown",
   "metadata": {},
   "source": [
    "6. List artists in increasing order of their top rank\n"
   ]
  },
  {
   "cell_type": "code",
   "execution_count": null,
   "metadata": {},
   "outputs": [],
   "source": []
  },
  {
   "cell_type": "markdown",
   "metadata": {},
   "source": [
    "7. List tracks that only spent one week in the charts\n"
   ]
  },
  {
   "cell_type": "code",
   "execution_count": null,
   "metadata": {},
   "outputs": [],
   "source": []
  },
  {
   "cell_type": "markdown",
   "metadata": {},
   "source": [
    "8. List tracks that only spent one week in the charts along with its artist\n"
   ]
  },
  {
   "cell_type": "code",
   "execution_count": null,
   "metadata": {},
   "outputs": [],
   "source": []
  }
 ],
 "metadata": {
  "kernelspec": {
   "display_name": "murach",
   "language": "python",
   "name": "python3"
  },
  "language_info": {
   "codemirror_mode": {
    "name": "ipython",
    "version": 3
   },
   "file_extension": ".py",
   "mimetype": "text/x-python",
   "name": "python",
   "nbconvert_exporter": "python",
   "pygments_lexer": "ipython3",
   "version": "3.11.7"
  }
 },
 "nbformat": 4,
 "nbformat_minor": 2
}
