{
 "cells": [
  {
   "cell_type": "markdown",
   "metadata": {},
   "source": [
    "# CPSC 375 Classwork - Map-Reduce\n",
    "\n",
    "[![Open In Colab](https://colab.research.google.com/assets/colab-badge.svg)](https://colab.research.google.com/github/soodk6/cpsc375-classwork/blob/main/mapreduce.ipynb)\n",
    "\n",
    "- *Manager*: \n",
    "- *Recorder*: \n",
    "- *Presenter*: \n",
    "- *Timekeeper*: "
   ]
  },
  {
   "cell_type": "code",
   "execution_count": null,
   "metadata": {},
   "outputs": [],
   "source": [
    "%pip install mockr"
   ]
  },
  {
   "cell_type": "markdown",
   "metadata": {},
   "source": [
    "## Part 1 - Slide 45"
   ]
  },
  {
   "cell_type": "markdown",
   "metadata": {},
   "source": [
    "* Implement `map()` and `reduce()` to count word frequencies\n"
   ]
  },
  {
   "cell_type": "code",
   "execution_count": null,
   "metadata": {},
   "outputs": [],
   "source": [
    "from mockr import run_stream_job\n",
    "\n",
    "def map_fn(chunk):\n",
    "  # TODO: output (word, 1) once per word in the document\n",
    "  yield ()\n",
    "\n",
    "def reduce_fn(key, values):\n",
    "  # TODO: compute the sum paired with the key\n",
    "  yield ()\n",
    "\n",
    "input_str = \"Deer bear river\\nCar car river\\nDeer car bear\"\n",
    "\n",
    "results = run_stream_job(input_str, map_fn, reduce_fn)\n",
    "\n",
    "print(results)"
   ]
  },
  {
   "cell_type": "markdown",
   "metadata": {},
   "source": [
    "* Compare your output with the results on slides 40 and 43\n"
   ]
  },
  {
   "cell_type": "markdown",
   "metadata": {},
   "source": [
    "## Part 2 - Slide 45"
   ]
  },
  {
   "cell_type": "markdown",
   "metadata": {},
   "source": [
    "`access.log.2025-04-26` contains a web server access log in [Combined Log Format](https://en.wikipedia.org/wiki/Common_Log_Format) created by visitors to [SecRepo.com - Samples of Security Related Data\n",
    "](https://www.secrepo.com/).\n",
    "\n",
    "* For each host, find the total number of bytes\n",
    "  * That is, the sum of the page sizes for all URLs from that particular host\n"
   ]
  },
  {
   "cell_type": "code",
   "execution_count": null,
   "metadata": {},
   "outputs": [],
   "source": [
    "import urllib\n",
    "\n",
    "def map_fn(chunk):\n",
    "  pass\n",
    "\n",
    "def reduce_fn(key, values):\n",
    "  pass\n",
    "\n",
    "input_file = urllib.request.urlopen(\n",
    "  \"https://raw.githubusercontent.com/ProfAvery/cpsc375-classwork/refs/heads/main/datasets/access.log.2025-04-26\"\n",
    ")\n",
    "\n",
    "input_str = input_file.read().decode(\"utf-8\")\n",
    "\n",
    "results = run_stream_job(input_str, map_fn, reduce_fn)\n",
    "\n",
    "print(results)"
   ]
  },
  {
   "cell_type": "markdown",
   "metadata": {},
   "source": [
    "Original dataset:\n",
    " * <https://www.secrepo.com/self.logs/>"
   ]
  }
 ],
 "metadata": {
  "kernelspec": {
   "display_name": "cpsc375",
   "language": "python",
   "name": "python3"
  },
  "language_info": {
   "codemirror_mode": {
    "name": "ipython",
    "version": 3
   },
   "file_extension": ".py",
   "mimetype": "text/x-python",
   "name": "python",
   "nbconvert_exporter": "python",
   "pygments_lexer": "ipython3",
   "version": "3.12.9"
  }
 },
 "nbformat": 4,
 "nbformat_minor": 2
}
