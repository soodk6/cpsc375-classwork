{
 "cells": [
  {
   "cell_type": "markdown",
   "metadata": {},
   "source": [
    "# CPSC 375 Classwork - Text data - Text classification\n",
    "\n",
    "[![Open In Colab](https://colab.research.google.com/assets/colab-badge.svg)](https://colab.research.google.com/github/soodk6/cpsc375-classwork/blob/main/text-classification.ipynb)\n",
    "\n",
    "- *Manager*: \n",
    "- *Recorder*: \n",
    "- *Presenter*: \n",
    "- *Timekeeper*: "
   ]
  },
  {
   "cell_type": "markdown",
   "metadata": {},
   "source": [
    "## Part 1 - Slide 15"
   ]
  },
  {
   "cell_type": "markdown",
   "metadata": {},
   "source": [
    "* Represent these three documents as **term-document count** vectors\n",
    "  - Document 1: *see spot*\n",
    "  - Document 2: *see spot run*\n",
    "  - Document 3: *run spot run*\n",
    "  "
   ]
  },
  {
   "cell_type": "markdown",
   "metadata": {},
   "source": [
    "|      | Document 1 | Document 2 | Document 3 |\n",
    "|------|------------|------------|------------|\n",
    "| see  |            |            |            |\n",
    "| spot |            |            |            |\n",
    "| run  |            |            |            |\n"
   ]
  },
  {
   "cell_type": "markdown",
   "metadata": {},
   "source": [
    "* Represent these three documents as **term frequency** vectors\n"
   ]
  },
  {
   "cell_type": "markdown",
   "metadata": {},
   "source": [
    "|      | $ tf_{t,1} $ | $ tf_{t,2} $ | $ tf_{t,3} $ |\n",
    "|------|--------------|--------------|--------------|\n",
    "| see  |              |              |              |\n",
    "| spot |              |              |              |\n",
    "| run  |              |              |              |\n"
   ]
  },
  {
   "cell_type": "markdown",
   "metadata": {},
   "source": [
    "* Find the **document frequency** vector for each word\n"
   ]
  },
  {
   "cell_type": "markdown",
   "metadata": {},
   "source": [
    "|      | $ df_t $ |\n",
    "|------|----------|\n",
    "| see  |          |\n",
    "| spot |          |\n",
    "| run  |          |\n"
   ]
  },
  {
   "cell_type": "markdown",
   "metadata": {},
   "source": [
    "* Find the **inverse document frequency** vector for each word\n"
   ]
  },
  {
   "cell_type": "markdown",
   "metadata": {},
   "source": [
    "|      | $ log(N/df_t) $ |\n",
    "|------|-----------------|\n",
    "| see  |                 |\n",
    "| spot |                 |\n",
    "| run  |                 |\n"
   ]
  },
  {
   "cell_type": "markdown",
   "metadata": {},
   "source": [
    "* Represent these three documents as **tf-idf** vectors\n",
    "  - Document 1: *see spot*\n",
    "  - Document 2: *see spot run*\n",
    "  - Document 3: *run spot run*"
   ]
  },
  {
   "cell_type": "markdown",
   "metadata": {},
   "source": [
    "|      | Document 1 | Document 2 | Document 3 |\n",
    "|------|------------|------------|------------|\n",
    "| see  |            |            |            |\n",
    "| spot |            |            |            |\n",
    "| run  |            |            |            |\n"
   ]
  }
 ],
 "metadata": {
  "kernelspec": {
   "display_name": "murach",
   "language": "python",
   "name": "python3"
  },
  "language_info": {
   "codemirror_mode": {
    "name": "ipython",
    "version": 3
   },
   "file_extension": ".py",
   "mimetype": "text/x-python",
   "name": "python",
   "nbconvert_exporter": "python",
   "pygments_lexer": "ipython3",
   "version": "3.11.7"
  }
 },
 "nbformat": 4,
 "nbformat_minor": 2
}
