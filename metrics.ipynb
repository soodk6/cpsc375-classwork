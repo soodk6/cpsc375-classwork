{
 "cells": [
  {
   "cell_type": "markdown",
   "metadata": {},
   "source": [
    "# CPSC 375 Classwork - Evaluation Metrics\n",
    "\n",
    "[![Open In Colab](https://colab.research.google.com/assets/colab-badge.svg)](https://colab.research.google.com/github/ProfAvery/cpsc375-classwork/blob/main/metrics.ipynb)\n",
    "\n",
    "- *Manager*: \n",
    "- *Recorder*: \n",
    "- *Presenter*: \n",
    "- *Timekeeper*: "
   ]
  },
  {
   "cell_type": "markdown",
   "metadata": {},
   "source": [
    "## Part 1 - Slide 13"
   ]
  },
  {
   "cell_type": "markdown",
   "metadata": {},
   "source": [
    "| Actual Class \\ Predicted Class | cancer = yes | cancer = no |\n",
    "|--------------------------------|--------------|-------------|\n",
    "| cancer = yes                   | 90           | 210         |\n",
    "| cancer = no                    | 140          | 9560        |\n",
    "\n",
    "Calculate\n",
    " * Accuracy\n",
    " * Error\n",
    " * Precision of cancer=yes\n",
    " * Recall of cancer = yes\n",
    " * F-score of cancer = yes"
   ]
  },
  {
   "cell_type": "code",
   "execution_count": null,
   "metadata": {},
   "outputs": [],
   "source": []
  },
  {
   "cell_type": "markdown",
   "metadata": {},
   "source": [
    "## Part 2 - Slide 18"
   ]
  },
  {
   "cell_type": "markdown",
   "metadata": {},
   "source": [
    "* Calculate\n",
    "  - Accuracy\n",
    "  - Error rate\n",
    "  - Precision\n",
    "  - Recall\n",
    "  - F1-score\n",
    "\n",
    "* For the following two classifiers\n",
    "  1. Risk is always High\n",
    "  2. 1-NN using Euclidean distance\n",
    "\n",
    "  - Use only the last three rows for test\n",
    "  - \"Positive\" class is High Risk\n",
    "\n",
    "![Credit score, Income, and Risk with the last three rows selected](images/metrics.png)\n"
   ]
  },
  {
   "cell_type": "code",
   "execution_count": null,
   "metadata": {},
   "outputs": [],
   "source": []
  }
 ],
 "metadata": {
  "kernelspec": {
   "display_name": "murach",
   "language": "python",
   "name": "python3"
  },
  "language_info": {
   "codemirror_mode": {
    "name": "ipython",
    "version": 3
   },
   "file_extension": ".py",
   "mimetype": "text/x-python",
   "name": "python",
   "nbconvert_exporter": "python",
   "pygments_lexer": "ipython3",
   "version": "3.11.7"
  }
 },
 "nbformat": 4,
 "nbformat_minor": 2
}
